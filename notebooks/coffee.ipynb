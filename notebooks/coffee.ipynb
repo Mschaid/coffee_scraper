{
 "cells": [
  {
   "cell_type": "raw",
   "metadata": {},
   "source": [
    "---\n",
    "title: \"Coffee\"\n",
    "format: html\n",
    "---"
   ]
  },
  {
   "cell_type": "code",
   "execution_count": 1,
   "metadata": {},
   "outputs": [],
   "source": [
    "%load_ext autoreload\n",
    "%autoreload 2"
   ]
  },
  {
   "cell_type": "code",
   "execution_count": 2,
   "metadata": {},
   "outputs": [],
   "source": [
    "import numpy as np\n",
    "import matplotlib.pyplot as plt\n",
    "import pandas as pd\n",
    "import pickle\n",
    "import seaborn as sns\n",
    "import seaborn.objects as so\n",
    "from src.Scraper_ import Scraper"
   ]
  },
  {
   "cell_type": "code",
   "execution_count": null,
   "metadata": {},
   "outputs": [],
   "source": [
    "path = '/Users/michaelschaid/GitHub/coffee_scraper/products_data.pkl'\n",
    "\n",
    "def load_products(path:str)->dict:\n",
    "    \n",
    "    with open(path, 'rb') as f:\n",
    "                    products = pickle.load(f)\n",
    "                    f.close()\n",
    "    return products\n",
    "\n",
    "\n",
    "def create_datafame(data:dict)->pd.DataFrame:\n",
    "    return (pd.DataFrame.from_dict(data, orient='index')\n",
    "            .reset_index()\n",
    "            .rename(columns={'index':'product_id'})\n",
    "            )\n",
    "    \n"
   ]
  },
  {
   "cell_type": "code",
   "execution_count": null,
   "metadata": {},
   "outputs": [],
   "source": [
    "products = load_products(path)\n",
    "data = create_datafame(products)\n",
    "data"
   ]
  },
  {
   "cell_type": "code",
   "execution_count": null,
   "metadata": {},
   "outputs": [],
   "source": [
    "\n",
    "# clean brand, remove spaces and make all lower case\n",
    "# roaster, split into city and state\n",
    "# product_name, remove spaces and make all lower case, get roast type?\n",
    "# prices, clean to int\n"
   ]
  },
  {
   "cell_type": "code",
   "execution_count": 3,
   "metadata": {},
   "outputs": [],
   "source": []
  },
  {
   "cell_type": "code",
   "execution_count": 13,
   "metadata": {},
   "outputs": [],
   "source": []
  },
  {
   "cell_type": "code",
   "execution_count": 14,
   "metadata": {},
   "outputs": [
    {
     "data": {
      "text/plain": [
       "{'brand': \"PT's\",\n",
       " 'roaster_location': 'Topeka, KS',\n",
       " 'product_name': 'FLATLANDER SIGNATURE BLEND',\n",
       " 'product_notes': 'Sweet & Smooth',\n",
       " 'process_method': 'Washed, Pulped Natural',\n",
       " 'roaster_notes': 'Flatlander features a bittersweet chocolate aroma with a round body, notes of caramel, and a tangerine sweetness. It has a pleasant finish of roasted almonds and chocolate.',\n",
       " 'product_description': 'Easy does it. And this coffee proves just that. A bittersweet aroma is balanced by a nutty, sweet finish. Here’s to one less complication.',\n",
       " 'single_purchace_price': '$18.50/bag',\n",
       " 'single_shipping_price': '$2.00 Shipping',\n",
       " 'subscription_price': '$15.75/bag',\n",
       " 'subscription_shipping_price': 'Free Shipping',\n",
       " 'roast_collection': 'Medium Roast Collection'}"
      ]
     },
     "execution_count": 14,
     "metadata": {},
     "output_type": "execute_result"
    }
   ],
   "source": []
  },
  {
   "cell_type": "code",
   "execution_count": null,
   "metadata": {},
   "outputs": [],
   "source": []
  },
  {
   "cell_type": "code",
   "execution_count": null,
   "metadata": {},
   "outputs": [],
   "source": []
  }
 ],
 "metadata": {
  "kernelspec": {
   "display_name": "Python 3.10.6 ('coffee')",
   "language": "python",
   "name": "python3"
  },
  "language_info": {
   "codemirror_mode": {
    "name": "ipython",
    "version": 3
   },
   "file_extension": ".py",
   "mimetype": "text/x-python",
   "name": "python",
   "nbconvert_exporter": "python",
   "pygments_lexer": "ipython3",
   "version": "3.10.6"
  },
  "orig_nbformat": 4,
  "vscode": {
   "interpreter": {
    "hash": "c40c26a93ea56be9ae984e34e9cd4ffb31f23d22935ba0f3e3fb01e65b4225ec"
   }
  }
 },
 "nbformat": 4,
 "nbformat_minor": 2
}
